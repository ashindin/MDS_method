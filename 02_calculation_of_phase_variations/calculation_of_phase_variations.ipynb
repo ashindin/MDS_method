{
 "cells": [
  {
   "cell_type": "code",
   "execution_count": 15,
   "metadata": {},
   "outputs": [],
   "source": [
    "using PyPlot"
   ]
  },
  {
   "cell_type": "markdown",
   "metadata": {},
   "source": [
    "# Расчет набега фазы, связанного с модификацией профиля\n",
    "$$\n",
    "\\Delta \\varphi = \\varphi(\\omega,t_1) - \\varphi(\\omega,t_0) = \\frac{2\\omega}{c}\\left [\\int_{0}^{z_{0}}\\sqrt{\\varepsilon \\left ( \\omega,\\omega_{\\text{pe}}\\left ( z,t_{1} \\right ) \\right )}\\mathrm{d}z-\n",
    "\t\\int_{0}^{z_{0}}\\sqrt{\\varepsilon \\left ( \\omega,\\omega_{\\text{pe}}\\left ( z,t_{0} \\right ) \\right )}\\mathrm{d}z \\right ]\n",
    "$$"
   ]
  },
  {
   "cell_type": "markdown",
   "metadata": {},
   "source": [
    "$$ \\varepsilon(\\omega,\\omega_\\text{pe}) = 1-\\frac{\\omega_\\text{pe}^2}{\\omega^2}$$"
   ]
  },
  {
   "cell_type": "markdown",
   "metadata": {},
   "source": [
    "Круговая плазменная частота:\n",
    "$$\n",
    "\\omega_{\\text{pe}}\\Big[\\frac{\\text{rad}}{\\text{s}}\\Big]=\\sqrt{\\frac{4\\pi N_\\text{e} e^2}{m_\\text{e}}}\n",
    "$$\n",
    "$$\\quad \\omega_{\\text{pe}}= 2\\pi \\cdot 8979.18235285877 \\cdot \\sqrt{N_e [cm^{-3}]} \\;\\text{ - расчетная формула}.\n",
    "$$\n",
    "$z_0$ - высота отражения волны с частотой $\\omega$."
   ]
  },
  {
   "cell_type": "code",
   "execution_count": 1,
   "metadata": {},
   "outputs": [
    {
     "data": {
      "text/plain": [
       "phase_variations (generic function with 1 method)"
      ]
     },
     "execution_count": 1,
     "metadata": {},
     "output_type": "execute_result"
    }
   ],
   "source": [
    "include(\"calculation_of_phase_variations.jl\")"
   ]
  },
  {
   "cell_type": "code",
   "execution_count": null,
   "metadata": {},
   "outputs": [],
   "source": [
    "fmax = 5000000\n",
    "Nmax = fpe_to_Ne(fmax)\n",
    "f_pump = 4600000\n",
    "z1, z2, zmax = 150000, 350000, 250000\n",
    "N_pump = fpe_to_Ne(f_pump)\n",
    "dN = 0.1*N_pump\n",
    "z0, d_z = 210808.0, 3000\n",
    "t_r, t_d, tau_r, tau_d = 1, 11, 3, 1"
   ]
  },
  {
   "cell_type": "code",
   "execution_count": 3,
   "metadata": {},
   "outputs": [],
   "source": [
    "f_axe = 4e6:1000.:5e6\n",
    "ω_axe = 2pi*f_axe\n",
    "t_axe = 0.0:0.1:5.\n",
    "z_step = 10.\n",
    "DPhi = zeros(length(t_axe),length(f_axe));"
   ]
  },
  {
   "cell_type": "code",
   "execution_count": 26,
   "metadata": {
    "scrolled": true
   },
   "outputs": [
    {
     "name": "stdout",
     "output_type": "stream",
     "text": [
      "2 3 4 5 6 7 8 9 10 11 12 13 14 15 16 17 18 19 20 21 22 23 24 25 26 27 28 29 30 31 32 33 34 35 36 37 38 39 40 41 42 43 44 45 46 47 48 49 50 51 "
     ]
    }
   ],
   "source": [
    "for i=2:length(t_axe)\n",
    "    print(i,\" \")   \n",
    "    for j=1:length(f_axe)                      \n",
    "        DPhi[i,j] = phase_variations(ω_axe[j], t_axe[i-1], t_axe[i], z_step, z1, z2, zmax, dN, z0, d_z, t_r, t_d, tau_r, tau_d)\n",
    "    end\n",
    "end"
   ]
  },
  {
   "cell_type": "code",
   "execution_count": 27,
   "metadata": {},
   "outputs": [],
   "source": [
    "# for i=26:27\n",
    "#     plot(f_axe/1e6,DPhi[i,:],label=string(\"t=\",t_axe[i]))    \n",
    "# end\n",
    "# grid()\n",
    "# legend();"
   ]
  },
  {
   "cell_type": "code",
   "execution_count": null,
   "metadata": {},
   "outputs": [],
   "source": []
  }
 ],
 "metadata": {
  "kernelspec": {
   "display_name": "Julia 1.5.1",
   "language": "julia",
   "name": "julia-1.5"
  },
  "language_info": {
   "file_extension": ".jl",
   "mimetype": "application/julia",
   "name": "julia",
   "version": "1.5.2"
  }
 },
 "nbformat": 4,
 "nbformat_minor": 4
}
